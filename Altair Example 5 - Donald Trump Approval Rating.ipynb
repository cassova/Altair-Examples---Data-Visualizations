{
 "cells": [
  {
   "cell_type": "markdown",
   "metadata": {},
   "source": [
    "# Altair Example 5 - Donald Trump Approval Rating\n",
    "\n",
    "This notebook creates an alternative visualization of the FiveThirtyEight's [How popular/unpopular is Donald Trump](https://projects.fivethirtyeight.com/trump-approval-ratings/).\n",
    "\n",
    "- The `weight` from FiveThirtyEight's `approval_poll_list.csv` is a reflection of the uncertainty and is encoded as opacity\n",
    "- The `samplesize` is the number of respondents and is encoded as circle size\n",
    "- The `adjusted_approve` and `adjusted_disapprove` from each poll is encoded on the X and Y axis respectively.\n",
    "- The `enddate` is the date of an individual poll's result\n",
    "- A poll's results are reflective over several days before and after the `enddate`. Each poll results fade in/out as well as shrinks/grows at a static rate over 10 days\n",
    "- If a poll's `adjusted_approve` is greater than or equal to `adjusted_disapprove`, the color will be `green`, otherwise, it will be `orange`\n",
    "- The Approval and Disapproval percentages shown are a 3-day rolling average of the approve_estimate and disapprove_estimate from `approval_topline.csv`\n",
    "- The Approval percentage will be shown as `green` and Disapproval percentage as `orange`\n",
    "- The Approval percentage will be shown on top if the `approve_estimate` is greater than or equal to `disapprove_estimate`, otherwise, Disapproval percentage will be shown on top\n",
    "- The Approval percentage and Disapproval percentage font size will grow or shrink proportionally to the gap between their values\n",
    "- The Trump emoji will show `happy` if `approve_estimate` is greater than or equal to `disapprove_estimate`, `sad` if `disapprove_estimate` is less than 10 points ahead of `approve_estimate`, or `mad` if `disapprove_estimate` is 10 or more points ahead of `approve_estimate`\n",
    "\n",
    "Justification for design choices:\n",
    "\n",
    "- I chose an animation because I think it engages the reader by entertaining them with the motion and how things change over time.\n",
    "- Individual polls that occur near the same time but have higher error (lower weight/opacity) create higher certainty when considered together. To capture this, I'm using opacity and time dilation to show areas of higher certainty and areas of lower certainty making for a clearer image of what the public perception truly is. higher vs lower certainty\n",
    "![Shows how uncertainty is visualized](images/certainty.png)\n",
    "- I've included the percentage values (encoded with position, size, and color) and Trump emojis to make the graphic more effective to the reader so they can more quickly grasp the situation without having to look at the moving blobs and axis.\n",
    "- I've added a dashed line along the diagonal to make the graphic more effective in splitting higher approval vs higher disapproval polls\n",
    "- In the title, both the number of days into the presidency and the date are effective in gauging when a certain approval/disapproval rating took place and showing how it changes over time"
   ]
  },
  {
   "cell_type": "code",
   "execution_count": 1,
   "metadata": {},
   "outputs": [],
   "source": [
    "import pandas as pd\n",
    "import altair as alt\n",
    "import numpy as np\n",
    "from datetime import timedelta\n",
    "\n",
    "# Load Data\n",
    "#---------------------------------\n",
    "topline_df = pd.read_csv('datasets/approval_topline.csv')\n",
    "topline_df['modeldate'] = pd.to_datetime(topline_df['modeldate'], format='%m/%d/%Y')\n",
    "\n",
    "polls_df = pd.read_csv('datasets/approval_poll_list.csv')\n",
    "polls_df['startdate'] = pd.to_datetime(polls_df['startdate'], format='%m/%d/%Y')\n",
    "polls_df['enddate'] = pd.to_datetime(polls_df['enddate'], format='%m/%d/%Y')\n",
    "polls_df['createddate'] = pd.to_datetime(polls_df['enddate'], format='%m/%d/%Y')\n",
    "\n",
    "# Clean Data\n",
    "#---------------------------------\n",
    "# We'll be using pandas rolling average instead of Altair's since Altair's looks like crap\n",
    "t_df = topline_df[topline_df['subgroup'] == 'All polls'].copy()\n",
    "t_df.set_index('modeldate', inplace=True)\n",
    "t_df.sort_index(inplace=True)\n",
    "t_df[['approval_roll', 'disapproval_roll']] = t_df.rolling('3d')[['approve_estimate','disapprove_estimate']].mean()\n",
    "t_df.reset_index(inplace=True)\n",
    "\n",
    "# Limit the polling data to all polls\n",
    "p_df = polls_df[(polls_df['subgroup'] == 'All polls')].copy()\n",
    "\n",
    "# Create a 50% line\n",
    "t_df['line_50'] = 50\n",
    "\n",
    "# Setup new fields\n",
    "p2_df = p_df.set_index('enddate').sort_index().copy()\n",
    "p2_df['majority'] = p2_df.apply(lambda x: 'Approve' if x['adjusted_approve']>=x['adjusted_disapprove'] else 'Disapprove', axis=1)\n",
    "\n",
    "# Add new rows for fading and shrinking\n",
    "p2_df['record'] = 'original'\n",
    "p2_df_copy = p2_df.copy()\n",
    "longevity = 10\n",
    "for l in range(1,longevity+1):\n",
    "    perc = (longevity+1-l)/(longevity+1)\n",
    "    sub_df = p2_df_copy.shift(-l, freq='D')\n",
    "    plu_df = p2_df_copy.shift(+l, freq='D')\n",
    "    sub_df['record'] = '-' + str(l)\n",
    "    plu_df['record'] = '+' + str(l)\n",
    "    sub_df['weight'] = sub_df['weight'] * perc\n",
    "    sub_df['samplesize'] = sub_df['samplesize'] * perc\n",
    "    plu_df['weight'] = plu_df['weight'] * perc\n",
    "    plu_df['samplesize'] = plu_df['samplesize'] * perc\n",
    "    p2_df = p2_df.append([sub_df, plu_df])\n",
    "\n",
    "# Setup Text Fields\n",
    "t2_df = t_df.set_index('modeldate').copy()\n",
    "t2_df_copy = t2_df.copy()\n",
    "for l in range(1,longevity+2):\n",
    "    sub_df = t2_df_copy.loc[[t2_df_copy.index.min()]].shift(-l, freq='D')\n",
    "    plu_df = t2_df_copy.loc[[t2_df_copy.index.max()]].shift(+l, freq='D')\n",
    "    t2_df = t2_df.append([sub_df,plu_df])\n",
    "a = 'approval_roll'\n",
    "d = 'disapproval_roll'\n",
    "t2_df['text1a'] = t2_df.apply(lambda x: str(round(x[a])) + '%' if x[a]>=x[d] else str(round(x[d])) + '%', axis=1)\n",
    "t2_df['text1b'] = t2_df.apply(lambda x: 'Approval' if x[a]>=x[d] else 'Disapproval', axis=1)\n",
    "t2_df[['text1ax','text1ay','text1bx','text1by']] = 59.5, 76, 60.5, 76\n",
    "t2_df['text2a'] = t2_df.apply(lambda x: str(round(x[d])) + '%' if x[a]>=x[d] else str(round(x[a])) + '%', axis=1)\n",
    "t2_df['text2b'] = t2_df.apply(lambda x: 'Disapproval' if x[a]>=x[d] else 'Approval', axis=1)\n",
    "t2_df[['text2ax','text2ay','text2bx','text2by']] = 59.5, 72, 60.5, 72\n",
    "vMax = (t2_df[a]-t2_df[d]).abs().max()\n",
    "vMin, sMax, sMin = -vMax, 30, 20\n",
    "t2_df['text1s'] = t2_df.apply(lambda x: (abs(x[a]-x[d])-vMin)/(vMax-vMin)*(sMax-sMin)+sMin , axis=1)\n",
    "t2_df['text2s'] = t2_df.apply(lambda x: (-abs(x[a]-x[d])-vMin)/(vMax-vMin)*(sMax-sMin)+sMin , axis=1)\n",
    "\n",
    "# Setup Trump emoji\n",
    "url_hap = 'https://raw.githubusercontent.com/cassova/Altair-Examples---Data-Visualizations/main/asset/t_hap.png'\n",
    "url_sad = 'https://raw.githubusercontent.com/cassova/Altair-Examples---Data-Visualizations/main/asset/t_sad.png'\n",
    "url_mad = 'https://raw.githubusercontent.com/cassova/Altair-Examples---Data-Visualizations/main/asset/t_mad.png'\n",
    "t2_df['imgu'] = t2_df.apply(lambda x: url_hap if x[a]>=x[d] else (url_sad if (x[d]-x[a])<10 else url_mad), axis=1)\n",
    "t2_df[['imgx','imgy']] = 53,74"
   ]
  },
  {
   "cell_type": "code",
   "execution_count": 2,
   "metadata": {},
   "outputs": [],
   "source": [
    "# Creates chart of one day's values\n",
    "\n",
    "def draw_graph(day):\n",
    "    dt = p2_df.index.min() + timedelta(days=day)\n",
    "    minX, minY, maxX, maxY = 20, 20, 80, 80\n",
    "\n",
    "    base = alt.Chart(p2_df.loc[dt]).mark_circle().encode(\n",
    "        x=alt.X('adjusted_approve:Q', axis=alt.Axis(tickCount=5, title='Approval Rating', titleFontSize=20), scale=alt.Scale(domain=[minX,maxX])),\n",
    "        y=alt.Y('adjusted_disapprove:Q', axis=alt.Axis(tickCount=5, title='Disapproval Rating', titleFontSize=20), scale=alt.Scale(domain=[minY,maxY])),\n",
    "        size=alt.Size('samplesize',scale=alt.Scale(domain=[100,500,2000,6000,20000,50000], range=[200,500,3000,8000,15000,30000]), legend=None),\n",
    "        opacity=alt.Opacity('weight',scale=alt.Scale(domain=[0,1,2,3,4], range=[0.25,0.5,0.75,1.0]), legend=None),\n",
    "        color=alt.Color('majority',scale=alt.Scale(domain=['Approve','Disapprove'], range=['#009f29','#ff7400']), legend=None),\n",
    "    )\n",
    "    line_x_50 = alt.Chart(pd.DataFrame({'x':[50]})).mark_rule().encode(x='x')\n",
    "    line_y_50 = alt.Chart(pd.DataFrame({'y':[50]})).mark_rule().encode(y='y')\n",
    "    line_diag = alt.Chart(pd.DataFrame({'x':[minX,maxX],'y':[minY,maxY]})).mark_line(color='black',opacity=0.25, strokeDash=[10,10]).encode(x='x',y='y')\n",
    "\n",
    "    text1a = alt.Chart(t2_df.loc[[dt]]).mark_text(align='right', size=t2_df.loc[dt,'text1s'], fontStyle='bold').encode(\n",
    "        x='text1ax:Q', y='text1ay:Q', text='text1a:N',\n",
    "        color=alt.Color('text1b:N', scale=alt.Scale(domain=['Approval','Disapproval'], range=['#009f29','#ff7400']))\n",
    "    )\n",
    "    text1b = alt.Chart(t2_df.loc[[dt]]).mark_text(align='left', size=20, fontStyle='bold').encode(\n",
    "        x='text1bx:Q', y='text1by:Q', text='text1b:N'\n",
    "    )\n",
    "    text2a = alt.Chart(t2_df.loc[[dt]]).mark_text(align='right', size=t2_df.loc[dt,'text2s'], fontStyle='bold').encode(\n",
    "        x='text2ax:Q', y='text2ay:Q', text='text2a:N',\n",
    "        color=alt.Color('text2b:N', scale=alt.Scale(domain=['Approval','Disapproval'], range=['#009f29','#ff7400']))\n",
    "    )\n",
    "    text2b = alt.Chart(t2_df.loc[[dt]]).mark_text(align='left', size=20, fontStyle='bold').encode(\n",
    "        x='text2bx:Q', y='text2by:Q', text='text2b:N'\n",
    "    )\n",
    "    text = (text1a  + text1b + text2a + text2b)\n",
    "    \n",
    "    trump_emoji = alt.Chart(t2_df.loc[[dt]]).mark_image(width=50,height=50).encode(x='imgx',y='imgy',url='imgu')\n",
    "    \n",
    "    chart = (base + line_x_50 + line_y_50 + line_diag + text + trump_emoji).properties(\n",
    "        width=900,\n",
    "        height=600,\n",
    "        title=alt.Text(text=f'Day {day} of Donald Trump\\'s Presidency',\n",
    "                       fontSize=30,\n",
    "                       subtitle=p2_df.loc[dt].reset_index().enddate.dt.strftime('%B %#d, %Y')[0],\n",
    "                       subtitleFontSize=20\n",
    "                      )\n",
    "    )\n",
    "    return chart"
   ]
  },
  {
   "cell_type": "code",
   "execution_count": 3,
   "metadata": {},
   "outputs": [
    {
     "data": {
      "application/vnd.jupyter.widget-view+json": {
       "model_id": "a5d463b3dee7439eb9a53649d2854e2e",
       "version_major": 2,
       "version_minor": 0
      },
      "text/plain": [
       "interactive(children=(Play(value=0, description='Press play', max=1478), Output()), _dom_classes=('widget-inte…"
      ]
     },
     "metadata": {},
     "output_type": "display_data"
    },
    {
     "data": {
      "text/plain": [
       "<function __main__.draw_graph(day)>"
      ]
     },
     "execution_count": 3,
     "metadata": {},
     "output_type": "execute_result"
    }
   ],
   "source": [
    "# This is the ipywidget Version (choppy and not very nice...)\n",
    "import ipywidgets as widgets\n",
    "from ipywidgets import interact\n",
    "\n",
    "interact(draw_graph, day = widgets.Play(\n",
    "    value=0,\n",
    "    min=0,\n",
    "    max=(p2_df.index.max() - p2_df.index.min()).days,\n",
    "    step=1,\n",
    "    description=\"Press play\",\n",
    "    disabled=False))"
   ]
  },
  {
   "cell_type": "code",
   "execution_count": 4,
   "metadata": {},
   "outputs": [
    {
     "name": "stdout",
     "output_type": "stream",
     "text": [
      "\tDownloading from:  https://chromedriver.storage.googleapis.com/88.0.4324.96/chromedriver_win64.zip\n",
      "\tTo:  d:\\GitHub\\Altair-Examples---Data-Visualizations\\chromedriver_88.0.4324.96.zip\n",
      "Download for 64 version failed; Trying alternates.\n",
      "\tDownloading from:  https://chromedriver.storage.googleapis.com/88.0.4324.96/chromedriver_win32.zip\n",
      "\tTo:  d:\\GitHub\\Altair-Examples---Data-Visualizations\\chromedriver_88.0.4324.96.zip\n"
     ]
    }
   ],
   "source": [
    "# This is the GIF version which is much smoother\n",
    "# Some required libraries: \n",
    "#     pip install gif                 # Creates gifs\n",
    "#     pip install \"gif[altair]\"       # Creates altair gifs\n",
    "#     conda install -c conda-forge altair_saver  # Allows saving of altair images to PNG format (pip version requires other libs)\n",
    "#     pip install pyderman            # Installs chromium driver necessary to save altair images\n",
    "\n",
    "import gif\n",
    "import pyderman as driver\n",
    "\n",
    "driver.install(browser=driver.chrome, file_directory='./', filename='chromedriver.exe') #filename is important!\n",
    "\n",
    "@gif.frame\n",
    "def make_gif(day):\n",
    "    return draw_graph(day)\n",
    "\n",
    "frames = []\n",
    "for i in range((p2_df.index.max() - p2_df.index.min()).days):\n",
    "    frame = make_gif(i)\n",
    "    frames.append(frame)\n",
    "\n",
    "gif.save(frames, 'dt_full.gif', duration=50, unit=\"ms\", between=\"frames\")\n",
    "# NOTE: dt_compressed.gif was created by uploading to Imgur and redownloading (creates a gifv)"
   ]
  },
  {
   "cell_type": "markdown",
   "metadata": {},
   "source": [
    "![GIF of output](images/dt_compressed.gif)"
   ]
  },
  {
   "cell_type": "markdown",
   "metadata": {},
   "source": [
    "Video also uploaded to [YouTube](https://youtu.be/ZUAd7FTFT9w)"
   ]
  }
 ],
 "metadata": {
  "kernelspec": {
   "display_name": "Python 3",
   "language": "python",
   "name": "python3"
  },
  "language_info": {
   "codemirror_mode": {
    "name": "ipython",
    "version": 3
   },
   "file_extension": ".py",
   "mimetype": "text/x-python",
   "name": "python",
   "nbconvert_exporter": "python",
   "pygments_lexer": "ipython3",
   "version": "3.8.5"
  }
 },
 "nbformat": 4,
 "nbformat_minor": 4
}
